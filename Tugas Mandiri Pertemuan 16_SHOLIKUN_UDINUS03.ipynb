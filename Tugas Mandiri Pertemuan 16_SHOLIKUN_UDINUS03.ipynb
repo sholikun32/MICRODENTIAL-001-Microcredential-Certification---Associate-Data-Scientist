{
  "nbformat": 4,
  "nbformat_minor": 0,
  "metadata": {
    "colab": {
      "name": "Tugas Mandiri Pertemuan 16_SHOLIKUN_UDINUS03.ipynb",
      "provenance": [],
      "collapsed_sections": [
        "9L_Aky6qJq97"
      ]
    },
    "kernelspec": {
      "display_name": "Python 3",
      "language": "python",
      "name": "python3"
    },
    "language_info": {
      "codemirror_mode": {
        "name": "ipython",
        "version": 3
      },
      "file_extension": ".py",
      "mimetype": "text/x-python",
      "name": "python",
      "nbconvert_exporter": "python",
      "pygments_lexer": "ipython3",
      "version": "3.8.8"
    },
    "accelerator": "GPU"
  },
  "cells": [
    {
      "cell_type": "markdown",
      "metadata": {
        "id": "5o1Jy03lJq9w"
      },
      "source": [
        "![header%20ipynb.png](attachment:header%20ipynb.png)"
      ]
    },
    {
      "cell_type": "markdown",
      "metadata": {
        "id": "9L_Aky6qJq97"
      },
      "source": [
        "# Hands-On\n",
        "---\n",
        "\n",
        "Hands-On ini digunakan pada kegiatan Microcredential Associate Data Scientist 2021"
      ]
    },
    {
      "cell_type": "markdown",
      "metadata": {
        "id": "Sdp1kng5Jq98"
      },
      "source": [
        "# Tugas Mandiri Pertemuan 16\n",
        "---\n",
        "Pertemuan 16 (enambelas) pada Microcredential Associate Data Scientist 2021 menyampaikan materi mengenai Membangun model: Evaluasi. silakan Anda kerjakan Latihan 1 s/d 5. Output yang anda lihat merupakan panduan yang dapat Anda ikuti dalam penulisan code :)"
      ]
    },
    {
      "cell_type": "markdown",
      "metadata": {
        "id": "PrQVcF-ldGWQ"
      },
      "source": [
        "<h1> Soal 1: Pemahaman Tentang Model Evaluasi</h1>\n",
        "\n",
        "Jawab pertanyaan di bawah ini dengan bahasa masing-masing?\n",
        "\n",
        "1. Apa perbedaan antara data latih, data validasi, dan data test?\n",
        "2. Bagaimana cara kita menilai performa suatu model?\n",
        "3. Apa itu Confusion Matrix? Jelaskan secara lengkap!\n",
        "4. Apa itu Classification Report dari sklearn?"
      ]
    },
    {
      "cell_type": "markdown",
      "metadata": {
        "id": "sr6D5UIhgpwO"
      },
      "source": [
        "\n",
        " <p style=\"color:#FF0000\">Jawab: </p>\n",
        "\n",
        " \n",
        "\n",
        "\n"
      ]
    },
    {
      "cell_type": "markdown",
      "metadata": {
        "id": "8_RwzetvAqjE"
      },
      "source": [
        "1.Secara umum data dibagi menjadi 3 bagian , yaitu data latih,data validasi dan data test.\n",
        " Perbedaannya :\n",
        "<p>-Data latih atau biasa disebut dengan training data merupakan bagian data yang digunakan saat melatih model</p>\n",
        "<p>- Data validasi atau validation data merupakan data yang digunakan untuk mengevaluasi model yang telah dilatih dengan training data, dengan menguji model yang telah dilatih menggunakan validation data, perfoma model-model dengan hyperparameter berbeda akan dibandingkan dan diketahui hyperpara meter mana yang menyebabkan underfitting, overfitting dan yang menghasilkan fit model terbaik. </p>\n",
        "<p>-Sedangkan Data test digunkan untuk menguji perfoma suatu algoritma pembelajaran mesin  satu dengan yang lainya, Namun dalam beberapa literatur, data validasi sering dianggap sama dengan data uji</p>"
      ]
    },
    {
      "cell_type": "markdown",
      "metadata": {
        "id": "f25uCWvdCkMP"
      },
      "source": [
        "2.Cara kita menilai perfoma suatu model yang dibangun makan diperlukan parameter evaluasi, Terdapat beberapa parameter evaluasi  berdasarkan jenis teksnya, yaitu:\n",
        "<p> 1. Task klasifikasi:beberapa paremater evaluasi anatara lain ada Akurasi, Presisi, Recal/Sensitivity,F1-measure</p>\n",
        "<p> 2. Task regresi:beberapa parameter evaluasinya ada MSE(Mean Squared Error), MAPE(Mean Absolute Percentage Error </p>\n",
        "<p>3. Task klastering:beberapa parameter evaluasi ada Silhoette Score,Davies-Bouldin Index  </p>\n"
      ]
    },
    {
      "cell_type": "markdown",
      "metadata": {
        "id": "YWEGtmqOLMvq"
      },
      "source": [
        "<p> 3. Confusion Matrix Adalah tabulasi detil yang menggambarkan hasil klasifikasi pada suatu model, Untuk setiap percobaan hasil klasifikasi dicatat dengan memperhatikan kelas yang sesunggunya dengan hasil percobaan yang dilakukan. Tabulasi melalui confusion matrix dapat menyajikan akurasi secara lebih baik, walaupun hasil akurasi akhir tetap berdasarkan kepada banyaknya percobaan valid terhadap total percobaan yang dilakukan. Hasil Klasifikasi yang benar untuk tiap kelas berada tepat di diagonal matriks. Sedangkan distribusi kesalahan klasifikasi dapat dilihat di bagian selain diagonal.</p>"
      ]
    },
    {
      "cell_type": "markdown",
      "source": [
        "<p> 4.Classification report menunjukkan detail dari precision, recall & f1-scores,mencetak biner klasifikasi sebagai penentuan True Positive, False Positive</p>"
      ],
      "metadata": {
        "id": "frKa1zFqDSz-"
      }
    },
    {
      "cell_type": "markdown",
      "source": [
        ""
      ],
      "metadata": {
        "id": "JA5o7j8KDRI3"
      }
    },
    {
      "cell_type": "markdown",
      "metadata": {
        "id": "uY-s7-KDgrkV"
      },
      "source": [
        "---"
      ]
    },
    {
      "cell_type": "markdown",
      "metadata": {
        "id": "Fv2TVsgAdGWY"
      },
      "source": [
        "<h1>Soal 2: Aplikasi Model Evaluasi</h1>\n",
        "\n",
        "Kali ini kita akan menggunakan data untuk memprediksi kelangsungan hidup pasien yang telah mengalami operasi payudara. Dengan informasi yang dimiliki terkait pasien, kita akan membuat model untuk memprediksi apakah pasien akan bertahan hidup dalam waktu lebih dari 5 tahun atau tidak.\n",
        "\n",
        "Lebih Lengkapnya kalian bisa membaca informasi tentang dataset di link berikut: https://raw.githubusercontent.com/jbrownlee/Datasets/master/haberman.names\n",
        "\n",
        "Buat model Klasifikasi (Model/Algoritma Bebas) untuk memprediksi status pasien dengan ketentuan sebagai berikut:\n",
        "\n",
        "1. Bagi kedua data ini menjadi data training dan data test dengan test_size=0.25.\n",
        "3. Pelajar tentang metrics roc_auc_score kemudian buatlah model dan evaluasi dengan menggunakan teknik cross-validation dengan scoring 'roc_auc'. Baca https://scikit-learn.org/stable/modules/generated/sklearn.model_selection.cross_val_score.html untuk menggunakan metric roc_auc saat cross-validation.\n",
        "3. Berapa score rata2 dari model dengan teknik cross-validation tersebut?<p>Jawab: 0.6903477711901624</p>\n",
        "4. Prediksi data test dengan model yang telah kalian buat!<p>Jawab: 0.5311403508771929 </p>\n",
        "5. Bagaimana hasil confusion matrix dari hasil prediksi tersebut?<p>Jawab: array ([[52,  5],</p>\n",
        "     <p>        [17,  3]]) </p>\n",
        "6. Bagaimana classification report dari hasil prediksi tersebut?\n",
        "5. Seberapa baik model anda dalam memprediksi seorang pasien mempunyai status positive?\n",
        "6. Seberapa baik model anda dalam memprediksi seorang pasien mempunyai status negatif?"
      ]
    },
    {
      "cell_type": "markdown",
      "metadata": {
        "id": "rnUmsrQJJq-T"
      },
      "source": [
        "### Load Dataset "
      ]
    },
    {
      "cell_type": "code",
      "metadata": {
        "id": "l_zK8Mqb-9Z6"
      },
      "source": [
        "# import library pandas\n",
        "import pandas as pd\n",
        "\n",
        "# Load Dataset\n",
        "url = 'https://raw.githubusercontent.com/jbrownlee/Datasets/master/haberman.csv'\n",
        "list_cols = ['Age', \"Patient's Years\", \"N_positive_ax\", \"survival_status\"]\n",
        "df = pd.read_csv(url, names=list_cols)"
      ],
      "execution_count": 10,
      "outputs": []
    },
    {
      "cell_type": "code",
      "metadata": {
        "colab": {
          "base_uri": "https://localhost:8080/",
          "height": 206
        },
        "id": "YrbPNGtHdGXV",
        "outputId": "372dbaf5-ca4e-46a0-deed-7841968c1c4f"
      },
      "source": [
        "# tampilkan 5 baris awal dataset dengan function head()\n",
        "df.head()"
      ],
      "execution_count": 11,
      "outputs": [
        {
          "output_type": "execute_result",
          "data": {
            "text/html": [
              "<div>\n",
              "<style scoped>\n",
              "    .dataframe tbody tr th:only-of-type {\n",
              "        vertical-align: middle;\n",
              "    }\n",
              "\n",
              "    .dataframe tbody tr th {\n",
              "        vertical-align: top;\n",
              "    }\n",
              "\n",
              "    .dataframe thead th {\n",
              "        text-align: right;\n",
              "    }\n",
              "</style>\n",
              "<table border=\"1\" class=\"dataframe\">\n",
              "  <thead>\n",
              "    <tr style=\"text-align: right;\">\n",
              "      <th></th>\n",
              "      <th>Age</th>\n",
              "      <th>Patient's Years</th>\n",
              "      <th>N_positive_ax</th>\n",
              "      <th>survival_status</th>\n",
              "    </tr>\n",
              "  </thead>\n",
              "  <tbody>\n",
              "    <tr>\n",
              "      <th>0</th>\n",
              "      <td>30</td>\n",
              "      <td>64</td>\n",
              "      <td>1</td>\n",
              "      <td>1</td>\n",
              "    </tr>\n",
              "    <tr>\n",
              "      <th>1</th>\n",
              "      <td>30</td>\n",
              "      <td>62</td>\n",
              "      <td>3</td>\n",
              "      <td>1</td>\n",
              "    </tr>\n",
              "    <tr>\n",
              "      <th>2</th>\n",
              "      <td>30</td>\n",
              "      <td>65</td>\n",
              "      <td>0</td>\n",
              "      <td>1</td>\n",
              "    </tr>\n",
              "    <tr>\n",
              "      <th>3</th>\n",
              "      <td>31</td>\n",
              "      <td>59</td>\n",
              "      <td>2</td>\n",
              "      <td>1</td>\n",
              "    </tr>\n",
              "    <tr>\n",
              "      <th>4</th>\n",
              "      <td>31</td>\n",
              "      <td>65</td>\n",
              "      <td>4</td>\n",
              "      <td>1</td>\n",
              "    </tr>\n",
              "  </tbody>\n",
              "</table>\n",
              "</div>"
            ],
            "text/plain": [
              "   Age  Patient's Years  N_positive_ax  survival_status\n",
              "0   30               64              1                1\n",
              "1   30               62              3                1\n",
              "2   30               65              0                1\n",
              "3   31               59              2                1\n",
              "4   31               65              4                1"
            ]
          },
          "metadata": {},
          "execution_count": 11
        }
      ]
    },
    {
      "cell_type": "code",
      "metadata": {
        "colab": {
          "base_uri": "https://localhost:8080/"
        },
        "id": "-dxYNPg7dGX4",
        "outputId": "315e29b8-fa02-47f2-cc7c-eb3e458ae5e2"
      },
      "source": [
        "# hitung jumlah masing\" data pada kolom survival_status\n",
        "df['survival_status'].value_counts()"
      ],
      "execution_count": 12,
      "outputs": [
        {
          "output_type": "execute_result",
          "data": {
            "text/plain": [
              "1    225\n",
              "2     81\n",
              "Name: survival_status, dtype: int64"
            ]
          },
          "metadata": {},
          "execution_count": 12
        }
      ]
    },
    {
      "cell_type": "markdown",
      "metadata": {
        "id": "F9A_635nJq-z"
      },
      "source": [
        "### Build Model"
      ]
    },
    {
      "cell_type": "code",
      "metadata": {
        "id": "8W2amvZgdGYX"
      },
      "source": [
        "#import library train test split dan cross val\n",
        "from sklearn.model_selection import train_test_split, cross_val_score\n",
        "\n",
        "#import library Logistic regression\n",
        "from sklearn.linear_model import LogisticRegression\n",
        "\n",
        "#import library roc auc score\n",
        "from sklearn.metrics import roc_auc_score\n",
        "\n",
        "#import library scale\n",
        "from sklearn.preprocessing import scale\n",
        "\n",
        "#import library numpy\n",
        "import numpy as np"
      ],
      "execution_count": 13,
      "outputs": []
    },
    {
      "cell_type": "code",
      "metadata": {
        "id": "zbnFxi7aJq-1"
      },
      "source": [
        "## pemisahan feature dan target (data target : 'survival_status')\n",
        "X = df.drop('survival_status', axis = 1)\n",
        "Xs = scale(X)\n",
        "y = df['survival_status']"
      ],
      "execution_count": 14,
      "outputs": []
    },
    {
      "cell_type": "markdown",
      "metadata": {
        "id": "_bTuzYjIJq-3"
      },
      "source": [
        "#### NO 1"
      ]
    },
    {
      "cell_type": "code",
      "metadata": {
        "id": "67NBjVtUJq-3"
      },
      "source": [
        "## pemisahan variabel test dan train dari data Xs dan y\n",
        "# test size= 25%, random state = 42, dan stratify = y\n",
        "X_train, X_test, y_train, y_test = train_test_split(X, y, test_size=0.25, random_state=42, stratify=y)"
      ],
      "execution_count": 15,
      "outputs": []
    },
    {
      "cell_type": "code",
      "metadata": {
        "id": "yhYKC7itJq-5"
      },
      "source": [
        "## pembuatan objek model\n",
        "model_logReg = LogisticRegression(random_state = 42)\n",
        "\n",
        "## latih model\n",
        "model_logReg.fit(X_train, y_train)\n",
        "\n",
        "## prediksi.\n",
        "y_predict = model_logReg.predict(X_test)"
      ],
      "execution_count": 16,
      "outputs": []
    },
    {
      "cell_type": "markdown",
      "metadata": {
        "id": "x9-jjNelJq-5"
      },
      "source": [
        "#### NO 2"
      ]
    },
    {
      "cell_type": "code",
      "metadata": {
        "id": "n_njRRYGJq-7",
        "colab": {
          "base_uri": "https://localhost:8080/"
        },
        "outputId": "bccd8745-8ff3-4d0b-af93-f009250d28dc"
      },
      "source": [
        "## menghitung cross_val_score dengan scoring = 'roc_auc'\n",
        "## parameter cv = 10 \n",
        "score = cross_val_score(model_logReg, X, y, scoring = 'roc_auc', cv = 10)\n",
        "print(score)"
      ],
      "execution_count": 17,
      "outputs": [
        {
          "output_type": "stream",
          "name": "stdout",
          "text": [
            "[0.44021739 0.80978261 0.67391304 0.69021739 0.70380435 0.79292929\n",
            " 0.875      0.62784091 0.67613636 0.61363636]\n"
          ]
        }
      ]
    },
    {
      "cell_type": "markdown",
      "metadata": {
        "id": "OpXHsVRdJq-8"
      },
      "source": [
        "#### NO 3"
      ]
    },
    {
      "cell_type": "code",
      "metadata": {
        "colab": {
          "base_uri": "https://localhost:8080/"
        },
        "id": "LedKNcvNeQqt",
        "outputId": "1017b05d-dae4-4d47-ee5b-1b555fb086a3"
      },
      "source": [
        "# cetak rata-rata nilai rata-rata auc score\n",
        "score.mean()"
      ],
      "execution_count": 18,
      "outputs": [
        {
          "output_type": "execute_result",
          "data": {
            "text/plain": [
              "0.6903477711901624"
            ]
          },
          "metadata": {},
          "execution_count": 18
        }
      ]
    },
    {
      "cell_type": "markdown",
      "metadata": {
        "id": "96LQsjuRJq-9"
      },
      "source": [
        "#### NO 4"
      ]
    },
    {
      "cell_type": "code",
      "metadata": {
        "colab": {
          "base_uri": "https://localhost:8080/"
        },
        "id": "sgIgntc9eTh5",
        "scrolled": true,
        "outputId": "dfc94ec5-5053-418e-ee54-39317fdafd1e"
      },
      "source": [
        "# Prediksi data test dengan model yang telah kalian buat \n",
        "auc_score = roc_auc_score(y_test, y_predict)\n",
        "auc_score"
      ],
      "execution_count": 19,
      "outputs": [
        {
          "output_type": "execute_result",
          "data": {
            "text/plain": [
              "0.5311403508771929"
            ]
          },
          "metadata": {},
          "execution_count": 19
        }
      ]
    },
    {
      "cell_type": "markdown",
      "metadata": {
        "id": "lcZ1IAjGJq-_"
      },
      "source": [
        "#### NO 5"
      ]
    },
    {
      "cell_type": "code",
      "metadata": {
        "id": "e23bVSGteUQV"
      },
      "source": [
        "# import library confusion matrix dan classification report\n",
        "from sklearn.metrics import confusion_matrix, classification_report"
      ],
      "execution_count": 20,
      "outputs": []
    },
    {
      "cell_type": "code",
      "metadata": {
        "colab": {
          "base_uri": "https://localhost:8080/"
        },
        "id": "rDqvvhZUeai_",
        "outputId": "512f8396-5b1c-4e9f-bfde-bbef19bb18a3"
      },
      "source": [
        "# apply confusion matrix dan cetak nilai confusion matrix\n",
        "cm = confusion_matrix(y_test, y_predict, labels = (1,2))\n",
        "cm"
      ],
      "execution_count": 21,
      "outputs": [
        {
          "output_type": "execute_result",
          "data": {
            "text/plain": [
              "array([[52,  5],\n",
              "       [17,  3]])"
            ]
          },
          "metadata": {},
          "execution_count": 21
        }
      ]
    },
    {
      "cell_type": "code",
      "metadata": {
        "id": "U_oEzKZCJq_B",
        "colab": {
          "base_uri": "https://localhost:8080/",
          "height": 282
        },
        "outputId": "2f7a599b-05f4-4a41-e6d9-d5b579ee8b72"
      },
      "source": [
        "# visualisasikan nilai confusion matrix ke dalam diagram heatmap\n",
        "import seaborn as sns\n",
        "sns.heatmap(cm, annot=True)"
      ],
      "execution_count": 22,
      "outputs": [
        {
          "output_type": "execute_result",
          "data": {
            "text/plain": [
              "<matplotlib.axes._subplots.AxesSubplot at 0x7f9b351173d0>"
            ]
          },
          "metadata": {},
          "execution_count": 22
        },
        {
          "output_type": "display_data",
          "data": {
            "image/png": "[encoded data removed]",
            "text/plain": [
              "<Figure size 432x288 with 2 Axes>"
            ]
          },
          "metadata": {
            "needs_background": "light"
          }
        }
      ]
    },
    {
      "cell_type": "markdown",
      "metadata": {
        "id": "TjXx-A1_Jq_D"
      },
      "source": [
        "#### NO 6"
      ]
    },
    {
      "cell_type": "code",
      "metadata": {
        "colab": {
          "base_uri": "https://localhost:8080/"
        },
        "id": "gTrzFq28ehP1",
        "outputId": "8b2c31ce-3cc9-457e-aa0a-3bc95a0e5dd2"
      },
      "source": [
        "# cetak nilai classification_report\n",
        "print(classification_report(y_test, y_predict))"
      ],
      "execution_count": 23,
      "outputs": [
        {
          "output_type": "stream",
          "name": "stdout",
          "text": [
            "              precision    recall  f1-score   support\n",
            "\n",
            "           1       0.75      0.91      0.83        57\n",
            "           2       0.38      0.15      0.21        20\n",
            "\n",
            "    accuracy                           0.71        77\n",
            "   macro avg       0.56      0.53      0.52        77\n",
            "weighted avg       0.66      0.71      0.67        77\n",
            "\n"
          ]
        }
      ]
    },
    {
      "cell_type": "markdown",
      "metadata": {
        "id": "U0-KQKB9Jq_F"
      },
      "source": [
        "#### NO 7"
      ]
    },
    {
      "cell_type": "markdown",
      "metadata": {
        "id": "1rm8SxlrenkO"
      },
      "source": [
        "- Bagaimana hasil confusion matrix dari hasil prediksi tersebut? <br>\n",
        " *jawab disini* dari hasil confusion matrik  prediksi menunjukkan <p>-True Positiv (TP) maka benar  memprediksi  pasien akan bertahan hidup dalam waktu lebih dari 5 tahun, TP=3.</>\n",
        " <p>-True Negativ (TN) , BENAR tidak memprediksi  pasien akan bertahan hidup dalam waktu lebih dari 5 tahun, TN=52 </p>\n",
        " <p>-False Positiv(FP),Palsu memprediksi  pasien akan tidak bertahan hidup dalam waktu lebih dari 5 tahun, namun hasil klasifikasi menunjukkan bahwa pasien akan bertahan hidup dalam waktu lebih dari 5 tahun,FP=5.</p>\n",
        " <p>False Negativ(FN), Palsu tidak  memprediksi  pasien akan bertahan hidup dalam waktu lebih dari 5 tahun, sebenarnya benar pasien  akan bertahan hidup dalam waktu lebih dari 5 tahun,FN=17</p>\n",
        " \n",
        " \n",
        "- Bagaimana classification report dari hasil prediksi tersebut? <br>\n",
        " *jawab disini*<p> Hasil dari prediksi menunjukkan menunjukkan hasil kurang bagus karena hasil prediksi recall menunjukkan 15%\n",
        " \n",
        " \n",
        "- Seberapa baik model anda dalam memprediksi seorang pasien mempunyai status positive? dari hasil classification_report diatas <br>\n",
        " *jawab disini* True Positiv (TP)=3,False Negativ(FN)=17\n",
        " \n",
        " \n",
        "- Seberapa baik model anda dalam memprediksi seorang pasien mempunyai status negatif? dari hasil classification_report diatas<br>\n",
        " *jawab disini*True Negativ (TN)=52,False Positiv(FP)=5"
      ]
    },
    {
      "cell_type": "markdown",
      "metadata": {
        "id": "I6v_dgoN-7wL"
      },
      "source": [
        "---"
      ]
    },
    {
      "cell_type": "markdown",
      "metadata": {
        "id": "teekoyIw--g2"
      },
      "source": [
        "<h1> Soal 3: Pemahaman Tentang Model Selection</h1>\n",
        "\n",
        "Jelaskan dengan bahasa sendiri!\n",
        "\n",
        "1. Apa itu Bias dan Variance?\n",
        "\n",
        " <p style=\"color:#FF0000\">Jawab</p>\n",
        "<p> Bias adalah perbedaan dari rata rata hasil prediksi dari model machine learning yang di develop dengan data nilai yang sebenarnya. Bias yang tinggi dikarenakan dalam pembangunan model machine learning, dilakukan terlalu sederhana (oversimplified). Faktor penyebab lain dikarenakan model machine learning yang di develop  tidak terlalu berinteraksi dengan training data. Bias seringkali terjadi dalam development sistem machine learning. Modeling yang menghasilkan bias error yang kecil : Knn, Decision Trees dan Support Vector Machines. Sedangkan modeling yang menghasilkan bias error yang besar : Linear Regression dan Logistic Regression. </p>\n",
        "<p>  Variance merupakan variabel dari prediksi model untuk data tertentu dimana memberikan informasi perserbaran data. Model yang memiliki variance tinggi sangat memperhatikan hanya pada train data. High variance model, perform baik di train data. Tetapi jika disuguhkan data baru yang belum pernah ditemukan di train data. Model tersebut tidak dapat mengeneralisasikan secara baik dari identifikasi data baru tersebut. Alhasil model memprediksi dengan keliru. Hal ini dapat mengukur inkonsistensi dari hasil prediksi yang dihasilkan. Modeling yang menghasilkan variance rendah : Linear Regression dan Logistic Regression. Sedangkan modeling yang menghasilkan variance yang banyak : k-Nearest Neighbors (k=1), Decision Trees dan Support Vector Machines.</p>\n",
        "\n",
        "\n",
        "\n",
        "2. Apa itu Overfitting dan Underfitting?\n",
        "<p>Jawab:  </p>\n",
        "<p> Underfitting adalah keadaan ketika kinerja model bernilai buruk baik pada training atau validasi maupun testing data </p>\n",
        "<p> Overfitting adalah keadaan ketika kinerja model bernilai baik untuk training tetapi buruk pada unseen data </p>\n",
        "<p> Data yang memiliki Bias yang tinggi dengan variance yang rendah akan menjadi underfitting. Sementara jika dengan bias tinggi dan juga high variance menjadikan prediksi sangat tidak tepat. Jika biasnya rendah dan variancenya tinggi akan menimbulkan overfitting dimana dengan data train, perform baik tapi ketika diberikan data baru, tidak dapat memprediksi. Pastinya yang paling baik jika bias rendah dan variance rendah  </p>\n",
        "\n",
        "3. Apa yang bisa kita lakukan untuk mengatur kompleksitas dari model? \n",
        "\n",
        " <p style=\"color:#FF0000\">Jawab</p> dengan mengurangi dimensi fitur,mentraformasikan data kedimensi yang lebih kecil\n",
        "4. Bagaimana model yang baik?\n",
        " <p style=\"color:#FF0000\">Jawab</p>\n",
        " Mengetahui dengan dari nilai delta rendah= nilai delta adalah selisih antara akurasi model saat diterapkan pada dataset train dan test,semakin rendah nilai elta,semakin tinggi perfoma model.mengtahui seberapa baik prdiksi tersebut,\n",
        "5. Kapan kita menggunakan GridSearchcv dan kapan menggunakan RandomizedSearchCV?\n",
        "\n",
        " <p style=\"color:#FF0000\">Jawab</p>\n",
        " <p>- GridSearchcv merupakan salah satu cara untuk menentukan kombinasi Hyperparameters, Metrik pengukuran perfoma dari  GridSearch adalah Mean Cross Validation(CV).Cara kerja dari GridSearchcv dengan mengkombinasi nilai yang kita masukkan pada Hyperparameter , jadi kita menggunakan GridSearchcv untuk  memilih kombinasi terbaik berdasarkan nilai dari CV score yang paling tinggi dan juga digunakan untuk menentukan parameter yang ingin kita cari.  </p>\n",
        "<p>- RandomizedSearchCV digunkan ketika kita memiliki banyak parameter untuk dicoba dan waktu pelatihanya sangat lama .</p>"
      ]
    },
    {
      "cell_type": "markdown",
      "metadata": {
        "id": "4a1l4RNf_FcU"
      },
      "source": [
        "\n",
        "\n",
        "\n"
      ]
    },
    {
      "cell_type": "markdown",
      "metadata": {
        "id": "Svj_cgxF_IZv"
      },
      "source": [
        "---"
      ]
    },
    {
      "cell_type": "markdown",
      "metadata": {
        "id": "Wy5VruRrM4pL"
      },
      "source": [
        ""
      ]
    },
    {
      "cell_type": "markdown",
      "metadata": {
        "id": "Hkh-PeRL_LZp"
      },
      "source": [
        "<h1> Soal 4: Aplikasi Model Selection</h1>\n",
        "\n",
        "1. Bagi kedua data berikut ini menjadi data training dan data test dengan test_size=0.25.\n",
        "2. Import library KNN dan GridSearchCV.\n",
        "3. Gunakan algoritma KNN dan fungsi GridSearchCV untuk hyperparameter tuning dan model selection.\n",
        "4. jumlah fold bebas!, gunakan scoring 'roc_auc'\n",
        "5. Definisikan kombinasi hyperparameter untuk model selection dengan GridSearchCV. kombinasi Hyperparameter bebas, baca lagi dokumentasi KNN di link berikut https://scikit-learn.org/stable/modules/generated/sklearn.neighbors.KNeighborsClassifier.html untuk memahami lagi jenis2 hyperparameter di algorithma KNN.\n",
        "6. Latih model terhadap data training.\n",
        "7. Apa hyperparameter terbaik untuk kombinasi hyperparameter kalian?\n",
        "8. Berapa score validasi terbaik dari model tersebut?\n",
        "9. Prediksi probabilitasi output dari model yang telah di buat terhadap data test. note : gunakan method .predict_proba() untuk menghasilkan output probabilitas\n",
        "\n",
        "10. Berapa nilai score roc_auc untuk data test? (y_predict)\n",
        "11. Apakah model anda termasuk baik, overtting, atau underfitting?\n"
      ]
    },
    {
      "cell_type": "markdown",
      "metadata": {
        "id": "Iuqbw4yGJq_K"
      },
      "source": [
        "### Load Dataset "
      ]
    },
    {
      "cell_type": "code",
      "metadata": {
        "id": "NwDFOxheJq_K"
      },
      "source": [
        "# import library pandas\n",
        "import pandas as pd\n",
        "\n",
        "# Load Dataset\n",
        "url = 'https://raw.githubusercontent.com/jbrownlee/Datasets/master/haberman.csv'\n",
        "list_cols = ['Age', \"Patient's Years\", \"N_positive_ax\", \"survival_status\"]\n",
        "df2 = pd.read_csv(url, names=list_cols)"
      ],
      "execution_count": 24,
      "outputs": []
    },
    {
      "cell_type": "code",
      "metadata": {
        "colab": {
          "base_uri": "https://localhost:8080/",
          "height": 206
        },
        "id": "qb-AD43R_V_d",
        "outputId": "b14ccfe8-95f9-488f-9bf9-8b1019759833"
      },
      "source": [
        "# tampilkan 5 baris awal dataset dengan function head()\n",
        "df2.head()"
      ],
      "execution_count": 25,
      "outputs": [
        {
          "output_type": "execute_result",
          "data": {
            "text/html": [
              "<div>\n",
              "<style scoped>\n",
              "    .dataframe tbody tr th:only-of-type {\n",
              "        vertical-align: middle;\n",
              "    }\n",
              "\n",
              "    .dataframe tbody tr th {\n",
              "        vertical-align: top;\n",
              "    }\n",
              "\n",
              "    .dataframe thead th {\n",
              "        text-align: right;\n",
              "    }\n",
              "</style>\n",
              "<table border=\"1\" class=\"dataframe\">\n",
              "  <thead>\n",
              "    <tr style=\"text-align: right;\">\n",
              "      <th></th>\n",
              "      <th>Age</th>\n",
              "      <th>Patient's Years</th>\n",
              "      <th>N_positive_ax</th>\n",
              "      <th>survival_status</th>\n",
              "    </tr>\n",
              "  </thead>\n",
              "  <tbody>\n",
              "    <tr>\n",
              "      <th>0</th>\n",
              "      <td>30</td>\n",
              "      <td>64</td>\n",
              "      <td>1</td>\n",
              "      <td>1</td>\n",
              "    </tr>\n",
              "    <tr>\n",
              "      <th>1</th>\n",
              "      <td>30</td>\n",
              "      <td>62</td>\n",
              "      <td>3</td>\n",
              "      <td>1</td>\n",
              "    </tr>\n",
              "    <tr>\n",
              "      <th>2</th>\n",
              "      <td>30</td>\n",
              "      <td>65</td>\n",
              "      <td>0</td>\n",
              "      <td>1</td>\n",
              "    </tr>\n",
              "    <tr>\n",
              "      <th>3</th>\n",
              "      <td>31</td>\n",
              "      <td>59</td>\n",
              "      <td>2</td>\n",
              "      <td>1</td>\n",
              "    </tr>\n",
              "    <tr>\n",
              "      <th>4</th>\n",
              "      <td>31</td>\n",
              "      <td>65</td>\n",
              "      <td>4</td>\n",
              "      <td>1</td>\n",
              "    </tr>\n",
              "  </tbody>\n",
              "</table>\n",
              "</div>"
            ],
            "text/plain": [
              "   Age  Patient's Years  N_positive_ax  survival_status\n",
              "0   30               64              1                1\n",
              "1   30               62              3                1\n",
              "2   30               65              0                1\n",
              "3   31               59              2                1\n",
              "4   31               65              4                1"
            ]
          },
          "metadata": {},
          "execution_count": 25
        }
      ]
    },
    {
      "cell_type": "code",
      "metadata": {
        "colab": {
          "base_uri": "https://localhost:8080/"
        },
        "id": "znc1dEGO_XU2",
        "outputId": "e8f4734c-7b64-4952-91b2-7f24a4ebe37f"
      },
      "source": [
        "# hitung jumlah masing\" data pada kolom survival_status\n",
        "df2['survival_status'].value_counts()"
      ],
      "execution_count": 26,
      "outputs": [
        {
          "output_type": "execute_result",
          "data": {
            "text/plain": [
              "1    225\n",
              "2     81\n",
              "Name: survival_status, dtype: int64"
            ]
          },
          "metadata": {},
          "execution_count": 26
        }
      ]
    },
    {
      "cell_type": "markdown",
      "metadata": {
        "id": "vQE1apjnJq_P"
      },
      "source": [
        "#### NO 1"
      ]
    },
    {
      "cell_type": "code",
      "metadata": {
        "id": "RZmjEbcie33S"
      },
      "source": [
        "# 1. pembagian variabel train dan test\n",
        "# test size= 25%, random state = 42, dan stratify = y\n",
        "X = df2.drop('survival_status', axis = 1)\n",
        "y = df2['survival_status']\n",
        "\n",
        "X_train, X_test, y_train, y_test = train_test_split(X, y, test_size=0.25, random_state=42, stratify=y)"
      ],
      "execution_count": 27,
      "outputs": []
    },
    {
      "cell_type": "markdown",
      "metadata": {
        "id": "BP53hROiJq_Q"
      },
      "source": [
        "#### NO 2"
      ]
    },
    {
      "cell_type": "code",
      "metadata": {
        "id": "3uWlk8JLfFVE"
      },
      "source": [
        "# 2. import library KNN dan GridSearchCv\n",
        "from sklearn.neighbors import KNeighborsClassifier\n",
        "from sklearn.model_selection import GridSearchCV"
      ],
      "execution_count": 28,
      "outputs": []
    },
    {
      "cell_type": "markdown",
      "metadata": {
        "id": "e1jrIp5EJq_b"
      },
      "source": [
        "#### NO 3 - 6"
      ]
    },
    {
      "cell_type": "code",
      "metadata": {
        "colab": {
          "base_uri": "https://localhost:8080/"
        },
        "id": "VNqpbE6cfJO_",
        "outputId": "c491087f-53a0-4b6c-a6c0-37d6f6c4e2bc"
      },
      "source": [
        "# 3. tuning hyperparameter dengan GridSearchCV (parameter cv=10)\n",
        "## build model KNN\n",
        "model_knn = KNeighborsClassifier()\n",
        "param_grid = {'n_neighbors' : np.arange(3,51), 'weights' : ['uniform','distance']}\n",
        "gscv = GridSearchCV(model_knn, param_grid, scoring='roc_auc', cv = 10)\n",
        "gscv.fit(X_train, y_train)"
      ],
      "execution_count": 29,
      "outputs": [
        {
          "output_type": "execute_result",
          "data": {
            "text/plain": [
              "GridSearchCV(cv=10, estimator=KNeighborsClassifier(),\n",
              "             param_grid={'n_neighbors': array([ 3,  4,  5,  6,  7,  8,  9, 10, 11, 12, 13, 14, 15, 16, 17, 18, 19,\n",
              "       20, 21, 22, 23, 24, 25, 26, 27, 28, 29, 30, 31, 32, 33, 34, 35, 36,\n",
              "       37, 38, 39, 40, 41, 42, 43, 44, 45, 46, 47, 48, 49, 50]),\n",
              "                         'weights': ['uniform', 'distance']},\n",
              "             scoring='roc_auc')"
            ]
          },
          "metadata": {},
          "execution_count": 29
        }
      ]
    },
    {
      "cell_type": "markdown",
      "metadata": {
        "id": "8yIDXSYpJq_d"
      },
      "source": [
        "#### NO 7"
      ]
    },
    {
      "cell_type": "code",
      "metadata": {
        "colab": {
          "base_uri": "https://localhost:8080/"
        },
        "id": "MSfTj3VGfL6R",
        "outputId": "e7ded9cf-68f0-410e-9fa3-96e33865acbc"
      },
      "source": [
        "# 7. parameter terbaik\n",
        "gscv.best_params_"
      ],
      "execution_count": 30,
      "outputs": [
        {
          "output_type": "execute_result",
          "data": {
            "text/plain": [
              "{'n_neighbors': 44, 'weights': 'distance'}"
            ]
          },
          "metadata": {},
          "execution_count": 30
        }
      ]
    },
    {
      "cell_type": "markdown",
      "metadata": {
        "id": "pDZuvA31Jq_e"
      },
      "source": [
        "#### NO 8"
      ]
    },
    {
      "cell_type": "code",
      "metadata": {
        "colab": {
          "base_uri": "https://localhost:8080/"
        },
        "id": "xhqfzxUffQBY",
        "outputId": "f9a3dd77-ac6b-43db-c605-8eac7014b086"
      },
      "source": [
        "# 8. score validasi terbaik\n",
        "gscv.best_score_"
      ],
      "execution_count": 31,
      "outputs": [
        {
          "output_type": "execute_result",
          "data": {
            "text/plain": [
              "0.7328256302521009"
            ]
          },
          "metadata": {},
          "execution_count": 31
        }
      ]
    },
    {
      "cell_type": "markdown",
      "metadata": {
        "id": "niBMA5XRJq_f"
      },
      "source": [
        "#### NO 9"
      ]
    },
    {
      "cell_type": "code",
      "metadata": {
        "id": "X5tQh4IufRpF",
        "scrolled": true,
        "colab": {
          "base_uri": "https://localhost:8080/"
        },
        "outputId": "54b14f81-fa53-42f8-9218-c7c941a84c8b"
      },
      "source": [
        "# 9. prediksikan probabilitas masing-masing data test\n",
        "y_predict = gscv.predict_proba(X_test)\n",
        "y_predict"
      ],
      "execution_count": 32,
      "outputs": [
        {
          "output_type": "execute_result",
          "data": {
            "text/plain": [
              "array([[0.83243084, 0.16756916],\n",
              "       [0.82948389, 0.17051611],\n",
              "       [0.83654015, 0.16345985],\n",
              "       [0.88637563, 0.11362437],\n",
              "       [0.79353081, 0.20646919],\n",
              "       [0.85764058, 0.14235942],\n",
              "       [1.        , 0.        ],\n",
              "       [0.91059345, 0.08940655],\n",
              "       [1.        , 0.        ],\n",
              "       [0.40791879, 0.59208121],\n",
              "       [0.74847637, 0.25152363],\n",
              "       [0.85851565, 0.14148435],\n",
              "       [0.74381719, 0.25618281],\n",
              "       [0.39343436, 0.60656564],\n",
              "       [0.87592463, 0.12407537],\n",
              "       [0.83027157, 0.16972843],\n",
              "       [0.81891568, 0.18108432],\n",
              "       [0.84789266, 0.15210734],\n",
              "       [0.81972569, 0.18027431],\n",
              "       [0.54389078, 0.45610922],\n",
              "       [0.75882428, 0.24117572],\n",
              "       [0.81902643, 0.18097357],\n",
              "       [1.        , 0.        ],\n",
              "       [0.876866  , 0.123134  ],\n",
              "       [0.48249566, 0.51750434],\n",
              "       [0.45003424, 0.54996576],\n",
              "       [0.57543564, 0.42456436],\n",
              "       [1.        , 0.        ],\n",
              "       [0.81528165, 0.18471835],\n",
              "       [0.91817378, 0.08182622],\n",
              "       [1.        , 0.        ],\n",
              "       [0.87592463, 0.12407537],\n",
              "       [1.        , 0.        ],\n",
              "       [0.67634355, 0.32365645],\n",
              "       [0.81489874, 0.18510126],\n",
              "       [1.        , 0.        ],\n",
              "       [0.91401356, 0.08598644],\n",
              "       [0.83700137, 0.16299863],\n",
              "       [0.65450277, 0.34549723],\n",
              "       [0.71600536, 0.28399464],\n",
              "       [0.86429849, 0.13570151],\n",
              "       [0.67185   , 0.32815   ],\n",
              "       [0.70729854, 0.29270146],\n",
              "       [0.32659927, 0.67340073],\n",
              "       [0.85152043, 0.14847957],\n",
              "       [0.87526755, 0.12473245],\n",
              "       [0.8657768 , 0.1342232 ],\n",
              "       [1.        , 0.        ],\n",
              "       [0.85587677, 0.14412323],\n",
              "       [0.81470662, 0.18529338],\n",
              "       [0.        , 1.        ],\n",
              "       [0.58630218, 0.41369782],\n",
              "       [0.78465635, 0.21534365],\n",
              "       [0.8273538 , 0.1726462 ],\n",
              "       [0.93065293, 0.06934707],\n",
              "       [0.78771332, 0.21228668],\n",
              "       [0.59771908, 0.40228092],\n",
              "       [0.85819935, 0.14180065],\n",
              "       [0.86802918, 0.13197082],\n",
              "       [0.85712324, 0.14287676],\n",
              "       [0.79150349, 0.20849651],\n",
              "       [0.81972569, 0.18027431],\n",
              "       [0.84895854, 0.15104146],\n",
              "       [0.87651676, 0.12348324],\n",
              "       [0.80510937, 0.19489063],\n",
              "       [1.        , 0.        ],\n",
              "       [0.61065018, 0.38934982],\n",
              "       [0.7790642 , 0.2209358 ],\n",
              "       [0.39894921, 0.60105079],\n",
              "       [0.74452557, 0.25547443],\n",
              "       [0.86842977, 0.13157023],\n",
              "       [0.65017413, 0.34982587],\n",
              "       [0.78410585, 0.21589415],\n",
              "       [0.9144802 , 0.0855198 ],\n",
              "       [0.77803863, 0.22196137],\n",
              "       [0.76783574, 0.23216426],\n",
              "       [0.86016996, 0.13983004]])"
            ]
          },
          "metadata": {},
          "execution_count": 32
        }
      ]
    },
    {
      "cell_type": "code",
      "metadata": {
        "colab": {
          "base_uri": "https://localhost:8080/"
        },
        "id": "ZExD7b1fJq_h",
        "outputId": "558d6605-d9f3-4635-a416-f6cdbab41a48"
      },
      "source": [
        "# nilai rata-rata probabilitas data test\n",
        "y_predict.mean()"
      ],
      "execution_count": 33,
      "outputs": [
        {
          "output_type": "execute_result",
          "data": {
            "text/plain": [
              "0.5"
            ]
          },
          "metadata": {},
          "execution_count": 33
        }
      ]
    },
    {
      "cell_type": "markdown",
      "metadata": {
        "id": "0h3eibp4Jq_h"
      },
      "source": [
        "#### NO 10"
      ]
    },
    {
      "cell_type": "code",
      "metadata": {
        "colab": {
          "base_uri": "https://localhost:8080/"
        },
        "id": "sUMrtvGUfWcn",
        "outputId": "e2a07a3f-a578-4c89-e1ab-02e3e6846de6"
      },
      "source": [
        "# 10. nilai score roc_auc \n",
        "kurang_5th =gscv.predict_proba(X_test)[:,1]\n",
        "print(kurang_5th)"
      ],
      "execution_count": 34,
      "outputs": [
        {
          "output_type": "stream",
          "name": "stdout",
          "text": [
            "[0.16756916 0.17051611 0.16345985 0.11362437 0.20646919 0.14235942\n",
            " 0.         0.08940655 0.         0.59208121 0.25152363 0.14148435\n",
            " 0.25618281 0.60656564 0.12407537 0.16972843 0.18108432 0.15210734\n",
            " 0.18027431 0.45610922 0.24117572 0.18097357 0.         0.123134\n",
            " 0.51750434 0.54996576 0.42456436 0.         0.18471835 0.08182622\n",
            " 0.         0.12407537 0.         0.32365645 0.18510126 0.\n",
            " 0.08598644 0.16299863 0.34549723 0.28399464 0.13570151 0.32815\n",
            " 0.29270146 0.67340073 0.14847957 0.12473245 0.1342232  0.\n",
            " 0.14412323 0.18529338 1.         0.41369782 0.21534365 0.1726462\n",
            " 0.06934707 0.21228668 0.40228092 0.14180065 0.13197082 0.14287676\n",
            " 0.20849651 0.18027431 0.15104146 0.12348324 0.19489063 0.\n",
            " 0.38934982 0.2209358  0.60105079 0.25547443 0.13157023 0.34982587\n",
            " 0.21589415 0.0855198  0.22196137 0.23216426 0.13983004]\n"
          ]
        }
      ]
    },
    {
      "cell_type": "markdown",
      "metadata": {
        "id": "msxdHs40Jq_j"
      },
      "source": [
        "#### NO 11 "
      ]
    },
    {
      "cell_type": "markdown",
      "metadata": {
        "id": "mHjZmxFyfejG"
      },
      "source": [
        " <p style=\"color:#FF0000\">Jawab</p>\n",
        "Model termasuk Overfitting"
      ]
    },
    {
      "cell_type": "markdown",
      "metadata": {
        "id": "QMO-gCB7Jq_k"
      },
      "source": [
        "<h1> Soal 5: </h1>\n",
        "\n",
        "\n",
        "1. Ulangi tahap di atas (soal 4, no 1 - 8) namun kali ini menggunakan algoritma DecisionTreeClassifier dan kalian bisa menggunakan RandomizedSearchCV apabila process training lama. pelajari algoritma DecisionTreeClassifier di linkberikut: https://scikit-learn.org/stable/modules/generated/sklearn.tree.DecisionTreeClassifier.html?highlight=decisiontreeclassifier#sklearn.tree.DecisionTreeClassifier\n",
        "2. Bandingkan scorenya dengan Algoritma KNN, mana yang lebih baik?\n",
        "\n",
        "Note : Data Science adalah experiment, sangat di dimungkinkan memerlukan beberapa kali percobaan untuk mendapatkan hasil yang terbaik! Happy Coding :)"
      ]
    },
    {
      "cell_type": "markdown",
      "metadata": {
        "id": "1UCav0OLJq_k"
      },
      "source": [
        "#### NO 1"
      ]
    },
    {
      "cell_type": "code",
      "metadata": {
        "id": "E4E6YlWOfYwm"
      },
      "source": [
        "# 1. import algoritma DecisionTreeClassifier\n",
        "from sklearn.tree import DecisionTreeClassifier\n",
        "from sklearn.model_selection import RandomizedSearchCV"
      ],
      "execution_count": 35,
      "outputs": []
    },
    {
      "cell_type": "code",
      "metadata": {
        "colab": {
          "base_uri": "https://localhost:8080/"
        },
        "id": "n6AOPaK8fo6e",
        "outputId": "d783f97b-c6fe-4616-c3a1-387c711a28b2"
      },
      "source": [
        "# Build model decision tree classifier \n",
        "model_tree = DecisionTreeClassifier()\n",
        "params = {'criterion' : ['entropy','gini'], 'splitter' : ['best', 'random'],\n",
        "         'min_samples_split' : np.arange(2,50)}\n",
        "gscv = GridSearchCV(model_tree, param_grid = params, cv = 10, scoring = 'roc_auc')\n",
        "gscv.fit(X_train, y_train)"
      ],
      "execution_count": 36,
      "outputs": [
        {
          "output_type": "execute_result",
          "data": {
            "text/plain": [
              "GridSearchCV(cv=10, estimator=DecisionTreeClassifier(),\n",
              "             param_grid={'criterion': ['entropy', 'gini'],\n",
              "                         'min_samples_split': array([ 2,  3,  4,  5,  6,  7,  8,  9, 10, 11, 12, 13, 14, 15, 16, 17, 18,\n",
              "       19, 20, 21, 22, 23, 24, 25, 26, 27, 28, 29, 30, 31, 32, 33, 34, 35,\n",
              "       36, 37, 38, 39, 40, 41, 42, 43, 44, 45, 46, 47, 48, 49]),\n",
              "                         'splitter': ['best', 'random']},\n",
              "             scoring='roc_auc')"
            ]
          },
          "metadata": {},
          "execution_count": 36
        }
      ]
    },
    {
      "cell_type": "code",
      "metadata": {
        "colab": {
          "base_uri": "https://localhost:8080/"
        },
        "id": "bf-n20APfrnd",
        "outputId": "1a3bf041-6738-4ea5-df63-4689b3967512"
      },
      "source": [
        "# parameter terbaik\n",
        "gscv.best_params_"
      ],
      "execution_count": 37,
      "outputs": [
        {
          "output_type": "execute_result",
          "data": {
            "text/plain": [
              "{'criterion': 'gini', 'min_samples_split': 37, 'splitter': 'random'}"
            ]
          },
          "metadata": {},
          "execution_count": 37
        }
      ]
    },
    {
      "cell_type": "code",
      "metadata": {
        "colab": {
          "base_uri": "https://localhost:8080/"
        },
        "id": "oghdg_0yfx7l",
        "outputId": "c03ab2bb-99ce-49c0-a674-3208c5197e1a"
      },
      "source": [
        "# score validasi terbaik\n",
        "gscv.best_score_"
      ],
      "execution_count": 38,
      "outputs": [
        {
          "output_type": "execute_result",
          "data": {
            "text/plain": [
              "0.7609725140056022"
            ]
          },
          "metadata": {},
          "execution_count": 38
        }
      ]
    },
    {
      "cell_type": "markdown",
      "metadata": {
        "id": "aQhxx3nFJq_n"
      },
      "source": [
        "#### NO 2"
      ]
    },
    {
      "cell_type": "markdown",
      "metadata": {
        "id": "mF4C599vf5c-"
      },
      "source": [
        " <p style=\"color:#FF0000\">Jawab</p>\n"
      ]
    },
    {
      "cell_type": "code",
      "source": [
        "# prediksikan probabilitas masing-masing data test\n",
        "gscv.predict_proba(X_test)\n",
        "\n"
      ],
      "metadata": {
        "colab": {
          "base_uri": "https://localhost:8080/"
        },
        "id": "RHADM0kvNfps",
        "outputId": "a5923e22-2be7-4365-e1af-a98d9965405d"
      },
      "execution_count": 39,
      "outputs": [
        {
          "output_type": "execute_result",
          "data": {
            "text/plain": [
              "array([[0.72413793, 0.27586207],\n",
              "       [0.89655172, 0.10344828],\n",
              "       [0.77272727, 0.22727273],\n",
              "       [0.84210526, 0.15789474],\n",
              "       [0.66666667, 0.33333333],\n",
              "       [0.91666667, 0.08333333],\n",
              "       [0.84210526, 0.15789474],\n",
              "       [0.94444444, 0.05555556],\n",
              "       [0.77272727, 0.22727273],\n",
              "       [0.36      , 0.64      ],\n",
              "       [0.72413793, 0.27586207],\n",
              "       [0.84210526, 0.15789474],\n",
              "       [0.77272727, 0.22727273],\n",
              "       [0.36      , 0.64      ],\n",
              "       [0.84210526, 0.15789474],\n",
              "       [0.6       , 0.4       ],\n",
              "       [0.72413793, 0.27586207],\n",
              "       [0.84210526, 0.15789474],\n",
              "       [0.94444444, 0.05555556],\n",
              "       [0.36      , 0.64      ],\n",
              "       [0.72413793, 0.27586207],\n",
              "       [0.84210526, 0.15789474],\n",
              "       [0.94444444, 0.05555556],\n",
              "       [0.89655172, 0.10344828],\n",
              "       [0.36      , 0.64      ],\n",
              "       [0.36      , 0.64      ],\n",
              "       [0.36      , 0.64      ],\n",
              "       [0.77272727, 0.22727273],\n",
              "       [0.94444444, 0.05555556],\n",
              "       [0.91666667, 0.08333333],\n",
              "       [0.94444444, 0.05555556],\n",
              "       [0.84210526, 0.15789474],\n",
              "       [0.89655172, 0.10344828],\n",
              "       [0.66666667, 0.33333333],\n",
              "       [0.89655172, 0.10344828],\n",
              "       [0.77272727, 0.22727273],\n",
              "       [0.91666667, 0.08333333],\n",
              "       [0.6       , 0.4       ],\n",
              "       [0.66666667, 0.33333333],\n",
              "       [0.36      , 0.64      ],\n",
              "       [0.89655172, 0.10344828],\n",
              "       [0.66666667, 0.33333333],\n",
              "       [0.72413793, 0.27586207],\n",
              "       [0.36      , 0.64      ],\n",
              "       [0.89655172, 0.10344828],\n",
              "       [0.89655172, 0.10344828],\n",
              "       [0.84210526, 0.15789474],\n",
              "       [0.91666667, 0.08333333],\n",
              "       [0.91666667, 0.08333333],\n",
              "       [0.6       , 0.4       ],\n",
              "       [0.94444444, 0.05555556],\n",
              "       [0.66666667, 0.33333333],\n",
              "       [0.72413793, 0.27586207],\n",
              "       [0.77272727, 0.22727273],\n",
              "       [0.94444444, 0.05555556],\n",
              "       [0.89655172, 0.10344828],\n",
              "       [0.5       , 0.5       ],\n",
              "       [0.77272727, 0.22727273],\n",
              "       [0.91666667, 0.08333333],\n",
              "       [0.84210526, 0.15789474],\n",
              "       [0.84210526, 0.15789474],\n",
              "       [0.94444444, 0.05555556],\n",
              "       [0.72413793, 0.27586207],\n",
              "       [0.94444444, 0.05555556],\n",
              "       [0.94444444, 0.05555556],\n",
              "       [0.6       , 0.4       ],\n",
              "       [0.5       , 0.5       ],\n",
              "       [0.6       , 0.4       ],\n",
              "       [0.36      , 0.64      ],\n",
              "       [0.84210526, 0.15789474],\n",
              "       [0.72413793, 0.27586207],\n",
              "       [0.77272727, 0.22727273],\n",
              "       [0.6       , 0.4       ],\n",
              "       [0.72413793, 0.27586207],\n",
              "       [0.72413793, 0.27586207],\n",
              "       [0.66666667, 0.33333333],\n",
              "       [0.72413793, 0.27586207]])"
            ]
          },
          "metadata": {},
          "execution_count": 39
        }
      ]
    },
    {
      "cell_type": "code",
      "source": [
        "# nilai rata-rata probabilitas data test\n",
        "y_predict.mean()"
      ],
      "metadata": {
        "colab": {
          "base_uri": "https://localhost:8080/"
        },
        "id": "aRbUVEj_OQus",
        "outputId": "550cca90-8105-4356-d2b7-78cc927e7d58"
      },
      "execution_count": 40,
      "outputs": [
        {
          "output_type": "execute_result",
          "data": {
            "text/plain": [
              "0.5"
            ]
          },
          "metadata": {},
          "execution_count": 40
        }
      ]
    },
    {
      "cell_type": "code",
      "source": [
        "#nilai score roc_auc \n",
        "gscv.predict_proba(X_test)[:,1]\n"
      ],
      "metadata": {
        "colab": {
          "base_uri": "https://localhost:8080/"
        },
        "id": "3sI_MxqRdA0S",
        "outputId": "f5957247-d9d2-4457-c4c9-f92e59dc8c03"
      },
      "execution_count": 41,
      "outputs": [
        {
          "output_type": "execute_result",
          "data": {
            "text/plain": [
              "array([0.27586207, 0.10344828, 0.22727273, 0.15789474, 0.33333333,\n",
              "       0.08333333, 0.15789474, 0.05555556, 0.22727273, 0.64      ,\n",
              "       0.27586207, 0.15789474, 0.22727273, 0.64      , 0.15789474,\n",
              "       0.4       , 0.27586207, 0.15789474, 0.05555556, 0.64      ,\n",
              "       0.27586207, 0.15789474, 0.05555556, 0.10344828, 0.64      ,\n",
              "       0.64      , 0.64      , 0.22727273, 0.05555556, 0.08333333,\n",
              "       0.05555556, 0.15789474, 0.10344828, 0.33333333, 0.10344828,\n",
              "       0.22727273, 0.08333333, 0.4       , 0.33333333, 0.64      ,\n",
              "       0.10344828, 0.33333333, 0.27586207, 0.64      , 0.10344828,\n",
              "       0.10344828, 0.15789474, 0.08333333, 0.08333333, 0.4       ,\n",
              "       0.05555556, 0.33333333, 0.27586207, 0.22727273, 0.05555556,\n",
              "       0.10344828, 0.5       , 0.22727273, 0.08333333, 0.15789474,\n",
              "       0.15789474, 0.05555556, 0.27586207, 0.05555556, 0.05555556,\n",
              "       0.4       , 0.5       , 0.4       , 0.64      , 0.15789474,\n",
              "       0.27586207, 0.22727273, 0.4       , 0.27586207, 0.27586207,\n",
              "       0.33333333, 0.27586207])"
            ]
          },
          "metadata": {},
          "execution_count": 41
        }
      ]
    },
    {
      "cell_type": "markdown",
      "source": [
        "model data dari hasil tesebut baik"
      ],
      "metadata": {
        "id": "BqjDRBSDrmF1"
      }
    }
  ]
}